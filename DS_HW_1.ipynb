{
  "nbformat": 4,
  "nbformat_minor": 0,
  "metadata": {
    "colab": {
      "provenance": []
    },
    "kernelspec": {
      "name": "python3",
      "display_name": "Python 3"
    },
    "language_info": {
      "name": "python"
    }
  },
  "cells": [
    {
      "cell_type": "markdown",
      "metadata": {
        "id": "view-in-github"
      },
      "source": [
        "<a href=\"https://colab.research.google.com/github/PIRomanCod/DataSciense_HW/blob/main/Hw1.ipynb\" target=\"_parent\"><img src=\"https://colab.research.google.com/assets/colab-badge.svg\" alt=\"Open In Colab\"/></a>"
      ]
    },
    {
      "cell_type": "markdown",
      "source": [
        "1. Створіть одновимірний масив (вектор) з першими 10-ма натуральними числами та виведіть його значення."
      ],
      "metadata": {
        "id": "DN7nxhqL6z3b"
      }
    },
    {
      "cell_type": "code",
      "source": [
        "import numpy as np\n",
        "\n",
        "vector = np.arange(1, 11, 1)\n",
        "print(\"Вектор:\")\n",
        "print(vector)"
      ],
      "metadata": {
        "colab": {
          "base_uri": "https://localhost:8080/"
        },
        "id": "zHaLJZum8uDN",
        "outputId": "d618126f-3ee4-4559-84c5-f9573f52c7c0"
      },
      "execution_count": 1,
      "outputs": [
        {
          "output_type": "execute_result",
          "data": {
            "text/plain": [
              "array([ 1,  2,  3,  4,  5,  6,  7,  8,  9, 10])"
            ]
          },
          "metadata": {},
          "execution_count": 1
        }
      ]
    },
    {
      "cell_type": "markdown",
      "source": [
        "2. Створіть двовимірний масив (матрицю) розміром 3x3, заповніть його нулями та виведіть його значення"
      ],
      "metadata": {
        "id": "RNfMYW-k64mB"
      }
    },
    {
      "cell_type": "code",
      "source": [
        "import numpy as np\n",
        "\n",
        "matrix = np.zeros((3, 3), dtype=int)\n",
        "print(\"Матриця:\")\n",
        "print(matrix)"
      ],
      "metadata": {
        "colab": {
          "base_uri": "https://localhost:8080/"
        },
        "id": "Art2FYFo8te4",
        "outputId": "20057ad4-094c-482b-966f-96c393397817"
      },
      "execution_count": null,
      "outputs": [
        {
          "output_type": "stream",
          "name": "stdout",
          "text": [
            "Матриця:\n",
            "[[0 0 0]\n",
            " [0 0 0]\n",
            " [0 0 0]]\n"
          ]
        }
      ]
    },
    {
      "cell_type": "markdown",
      "source": [
        "3. Створіть масив розміром 5x5, заповніть його випадковими цілими числами в діапазоні від 1 до 10 та виведіть його значення.\n",
        "\n",
        "\n"
      ],
      "metadata": {
        "id": "gCtQgiyv64sc"
      }
    },
    {
      "cell_type": "code",
      "source": [
        "import numpy as np\n",
        "\n",
        "# Встановлюємо насіння для генерації випадкових чисел, щоб отримати однакові результати кожного разу\n",
        "np.random.seed(0)\n",
        "matrix = np.random.randint(1, 11, size=(5, 5))\n",
        "print(\"Матриця:\")\n",
        "print(matrix)"
      ],
      "metadata": {
        "colab": {
          "base_uri": "https://localhost:8080/"
        },
        "id": "z0TPtlAN9sGZ",
        "outputId": "086c43df-07f2-48c5-b1f4-0bf52978c8e2"
      },
      "execution_count": null,
      "outputs": [
        {
          "output_type": "stream",
          "name": "stdout",
          "text": [
            "Матриця:\n",
            "[[ 6  1  4  4  8]\n",
            " [10  4  6  3  5]\n",
            " [ 8  7  9  9  2]\n",
            " [ 7  8  8  9  2]\n",
            " [ 6 10  9 10  5]]\n"
          ]
        }
      ]
    },
    {
      "cell_type": "markdown",
      "source": [
        "4. Створіть масив розміром 4x4, заповніть його випадковими дійсними числами в діапазоні від 0 до 1 та виведіть його значення."
      ],
      "metadata": {
        "id": "7BAUaF4364xH"
      }
    },
    {
      "cell_type": "code",
      "source": [
        "import numpy as np\n",
        "np.random.seed(0)\n",
        "matrix = np.random.random((4, 4))\n",
        "print(\"Матриця:\")\n",
        "print(matrix)"
      ],
      "metadata": {
        "colab": {
          "base_uri": "https://localhost:8080/"
        },
        "id": "6HFROi8_8u0O",
        "outputId": "b3766b48-5cfb-4d31-8962-35a608231b05"
      },
      "execution_count": null,
      "outputs": [
        {
          "output_type": "stream",
          "name": "stdout",
          "text": [
            "Матриця:\n",
            "[[0.5488135  0.71518937 0.60276338 0.54488318]\n",
            " [0.4236548  0.64589411 0.43758721 0.891773  ]\n",
            " [0.96366276 0.38344152 0.79172504 0.52889492]\n",
            " [0.56804456 0.92559664 0.07103606 0.0871293 ]]\n"
          ]
        }
      ]
    },
    {
      "cell_type": "markdown",
      "source": [
        "5. Створіть два одновимірних масиви розміром 5, заповніть їх випадковими цілими числами в діапазоні від 1 до 10 та виконайте на них поелементні операції додавання, віднімання та множення."
      ],
      "metadata": {
        "id": "9-X14K0L640E"
      }
    },
    {
      "cell_type": "code",
      "source": [
        "import numpy as np\n",
        "np.random.seed(0)\n",
        "vector_1 = np.random.randint(1, 11, size=(5))\n",
        "vector_2 = np.random.randint(1, 11, size=(5))\n",
        "print(\"Вектор_1:\")\n",
        "print(vector_1)\n",
        "print(\"\\nВектор_2:\")\n",
        "print(vector_2)\n",
        "print(\"\\nСума векторів\")\n",
        "print(vector_1+vector_2)\n",
        "print(\"\\nРізниця векторів\")\n",
        "print(vector_1-vector_2)\n",
        "print(\"\\nМноження векторів\")\n",
        "print(vector_1*vector_2)"
      ],
      "metadata": {
        "id": "fsvh9ize8vdv",
        "colab": {
          "base_uri": "https://localhost:8080/"
        },
        "outputId": "93b46016-6bae-482c-9f1d-62184e948439"
      },
      "execution_count": null,
      "outputs": [
        {
          "output_type": "stream",
          "name": "stdout",
          "text": [
            "Вектор_1:\n",
            "[6 1 4 4 8]\n",
            "\n",
            "Вектор_2:\n",
            "[10  4  6  3  5]\n",
            "\n",
            "Сума векторів\n",
            "[16  5 10  7 13]\n",
            "\n",
            "Різниця векторів\n",
            "[-4 -3 -2  1  3]\n",
            "\n",
            "Множення векторів\n",
            "[60  4 24 12 40]\n"
          ]
        }
      ]
    },
    {
      "cell_type": "markdown",
      "source": [
        "6. Створіть два вектори розміром 7, заповніть довільними числами та знайдіть їх скалярний добуток."
      ],
      "metadata": {
        "id": "BNOaJeSJ642v"
      }
    },
    {
      "cell_type": "code",
      "source": [
        "import numpy as np\n",
        "np.random.seed(0)\n",
        "vector_1 = np.random.randint(1, 11, size=(7))\n",
        "vector_2 = np.random.randint(1, 11, size=(7))\n",
        "result = np.dot(vector_1, vector_2)\n",
        "print(\"Вектор 1:\")\n",
        "print(vector_1)\n",
        "print(\"\\nВектор 2:\")\n",
        "print(vector_2)\n",
        "print(\"\\nСкалярний добуток векторів:\")\n",
        "print(result)"
      ],
      "metadata": {
        "id": "959CSUrI8v_Z",
        "colab": {
          "base_uri": "https://localhost:8080/"
        },
        "outputId": "639d79b5-b9a9-4e78-92ee-b0307bf55956"
      },
      "execution_count": null,
      "outputs": [
        {
          "output_type": "stream",
          "name": "stdout",
          "text": [
            "Вектор 1:\n",
            "[ 6  1  4  4  8 10  4]\n",
            "\n",
            "Вектор 2:\n",
            "[6 3 5 8 7 9 9]\n",
            "\n",
            "Скалярний добуток векторів:\n",
            "273\n"
          ]
        }
      ]
    },
    {
      "cell_type": "markdown",
      "source": [
        "7. Створіть дві матриці розміром 2x2 та 2x3, заповніть їх випадковими цілими числами в діапазоні від 1 до 10 та перемножте їх між собою."
      ],
      "metadata": {
        "id": "hot_QCZl645X"
      }
    },
    {
      "cell_type": "code",
      "source": [
        "import numpy as np\n",
        "np.random.seed(0)\n",
        "matrix_1 = np.array(np.random.randint(1, 11, size=(2, 2)))\n",
        "matrix_2 = np.array(np.random.randint(1, 11, size=(2, 3)))\n",
        "result = np.dot(matrix_1, matrix_2)\n",
        "print(\"Матриця 1:\")\n",
        "print(matrix_1)\n",
        "print(\"\\nМатриця 2:\")\n",
        "print(matrix_2)\n",
        "print(\"\\nМноження матриць:\")\n",
        "print(result)"
      ],
      "metadata": {
        "id": "lDX2Bcm98wj7",
        "colab": {
          "base_uri": "https://localhost:8080/"
        },
        "outputId": "f385aa70-09de-4ab8-841d-76f62213bba7"
      },
      "execution_count": null,
      "outputs": [
        {
          "output_type": "stream",
          "name": "stdout",
          "text": [
            "Матриця 1:\n",
            "[[6 1]\n",
            " [4 4]]\n",
            "\n",
            "Матриця 2:\n",
            "[[ 8 10  4]\n",
            " [ 6  3  5]]\n",
            "\n",
            "Множення матриць:\n",
            "[[54 63 29]\n",
            " [56 52 36]]\n"
          ]
        }
      ]
    },
    {
      "cell_type": "markdown",
      "source": [
        "8. Створіть матрицю розміром 3x3, заповніть її випадковими цілими числами в діапазоні від 1 до 10 та знайдіть її обернену матрицю."
      ],
      "metadata": {
        "id": "eDSOzP27647_"
      }
    },
    {
      "cell_type": "code",
      "source": [
        "import numpy as np\n",
        "\n",
        "np.random.seed(0)\n",
        "matrix = np.array(np.random.randint(1, 11, size=(3, 3)))\n",
        "result = np.linalg.inv(matrix)\n",
        "\n",
        "print(\"Матриця:\")\n",
        "print(matrix)\n",
        "print(\"\\nОбернена матриця:\")\n",
        "print(result)"
      ],
      "metadata": {
        "id": "5rKfPWTj8xH3",
        "colab": {
          "base_uri": "https://localhost:8080/"
        },
        "outputId": "3db91281-a04e-4f65-9b20-217c343ea178"
      },
      "execution_count": null,
      "outputs": [
        {
          "output_type": "stream",
          "name": "stdout",
          "text": [
            "Матриця:\n",
            "[[ 6  1  4]\n",
            " [ 4  8 10]\n",
            " [ 4  6  3]]\n",
            "\n",
            "Обернена матриця:\n",
            "[[ 0.16363636 -0.09545455  0.1       ]\n",
            " [-0.12727273 -0.00909091  0.2       ]\n",
            " [ 0.03636364  0.14545455 -0.2       ]]\n"
          ]
        }
      ]
    },
    {
      "cell_type": "markdown",
      "source": [
        "9. Створіть матрицю розміром 4x4, заповніть її випадковими дійсними числами в діапазоні від 0 до 1 та транспонуйте її.\n"
      ],
      "metadata": {
        "id": "5RTIaGZU7if7"
      }
    },
    {
      "cell_type": "code",
      "source": [
        "import numpy as np\n",
        "np.random.seed(0)\n",
        "matrix = np.random.random((4, 4))\n",
        "result = matrix.T\n",
        "\n",
        "print(\"Матриця:\")\n",
        "print(matrix)\n",
        "print(\"\\nТранспонована матриця:\")\n",
        "print(result)"
      ],
      "metadata": {
        "id": "hIbQXqSu8x_z",
        "colab": {
          "base_uri": "https://localhost:8080/"
        },
        "outputId": "75657fa3-dc62-4cfd-cd99-22bcb93219a3"
      },
      "execution_count": null,
      "outputs": [
        {
          "output_type": "stream",
          "name": "stdout",
          "text": [
            "Матриця:\n",
            "[[0.5488135  0.71518937 0.60276338 0.54488318]\n",
            " [0.4236548  0.64589411 0.43758721 0.891773  ]\n",
            " [0.96366276 0.38344152 0.79172504 0.52889492]\n",
            " [0.56804456 0.92559664 0.07103606 0.0871293 ]]\n",
            "\n",
            "Транспонована матриця:\n",
            "[[0.5488135  0.4236548  0.96366276 0.56804456]\n",
            " [0.71518937 0.64589411 0.38344152 0.92559664]\n",
            " [0.60276338 0.43758721 0.79172504 0.07103606]\n",
            " [0.54488318 0.891773   0.52889492 0.0871293 ]]\n"
          ]
        }
      ]
    },
    {
      "cell_type": "markdown",
      "source": [
        "10. Створіть матрицю розміром 3x4 та вектор розміром 4, заповніть їх випадковими цілими числами в діапазоні від 1 до 10 та перемножте матрицю на вектор.\n"
      ],
      "metadata": {
        "id": "Mfa_RBf57ii7"
      }
    },
    {
      "cell_type": "code",
      "source": [
        "import numpy as np\n",
        "\n",
        "np.random.seed(0)\n",
        "\n",
        "matrix = np.random.randint(1, 11, size=(3, 4))\n",
        "vector = np.random.randint(1, 11, size=4)\n",
        "result = np.dot(matrix, vector)\n",
        "\n",
        "print(\"Матриця:\")\n",
        "print(matrix)\n",
        "print(\"\\nВектор:\")\n",
        "print(vector)\n",
        "print(\"\\nРезультат перемноження матриці на вектор:\")\n",
        "print(result)"
      ],
      "metadata": {
        "id": "8yefNa9S8yeq",
        "colab": {
          "base_uri": "https://localhost:8080/"
        },
        "outputId": "12f3ed83-3d53-46b8-9778-33acc3a8330b"
      },
      "execution_count": null,
      "outputs": [
        {
          "output_type": "stream",
          "name": "stdout",
          "text": [
            "Матриця:\n",
            "[[ 6  1  4  4]\n",
            " [ 8 10  4  6]\n",
            " [ 3  5  8  7]]\n",
            "\n",
            "Вектор:\n",
            "[9 9 2 7]\n",
            "\n",
            "Результат перемноження матриці на вектор:\n",
            "[ 99 212 137]\n"
          ]
        }
      ]
    },
    {
      "cell_type": "markdown",
      "source": [
        "11. Створіть матрицю розміром 2x3 та вектор розміром 3, заповніть їх випадковими дійсними числами в діапазоні від 0 до 1 та перемножте матрицю на вектор."
      ],
      "metadata": {
        "id": "7plnEBeb7ioD"
      }
    },
    {
      "cell_type": "code",
      "source": [
        "import numpy as np\n",
        "\n",
        "np.random.seed(0)\n",
        "\n",
        "matrix = np.random.random((2, 3))\n",
        "vector = np.random.random(3)\n",
        "result = np.dot(matrix, vector)\n",
        "\n",
        "print(\"Матриця:\")\n",
        "print(matrix)\n",
        "print(\"\\nВектор:\")\n",
        "print(vector)\n",
        "print(\"\\nРезультат перемноження матриці на вектор:\")\n",
        "print(result)"
      ],
      "metadata": {
        "id": "qqawj-8a8y9f",
        "colab": {
          "base_uri": "https://localhost:8080/"
        },
        "outputId": "a4f796d9-e639-4b77-e63c-a1352aa87a14"
      },
      "execution_count": null,
      "outputs": [
        {
          "output_type": "stream",
          "name": "stdout",
          "text": [
            "Матриця:\n",
            "[[0.5488135  0.71518937 0.60276338]\n",
            " [0.54488318 0.4236548  0.64589411]]\n",
            "\n",
            "Вектор:\n",
            "[0.43758721 0.891773   0.96366276]\n",
            "\n",
            "Результат перемноження матриці на вектор:\n",
            "[1.45880096 1.23866193]\n"
          ]
        }
      ]
    },
    {
      "cell_type": "markdown",
      "source": [
        "12. Створіть дві матриці розміром 2x2, заповніть їх випадковими цілими числами в діапазоні від 1 до 10 та виконайте їхнє поелементне множення.\n",
        "\n"
      ],
      "metadata": {
        "id": "suOq5ynL7iqn"
      }
    },
    {
      "cell_type": "code",
      "source": [
        "import numpy as np\n",
        "\n",
        "np.random.seed(0)\n",
        "\n",
        "matrix_1 = np.random.randint(1, 11, size=(2, 2))\n",
        "matrix_2 = np.random.randint(1, 11, size=(2, 2))\n",
        "result = matrix_1 * matrix_2\n",
        "\n",
        "print(\"Матриця_1:\")\n",
        "print(matrix_1)\n",
        "print(\"\\nМатриця_2:\")\n",
        "print(matrix_2)\n",
        "print(\"\\nРезультат поелементного перемноження матриць:\")\n",
        "print(result)"
      ],
      "metadata": {
        "id": "ESbZ9J6V8zdW",
        "colab": {
          "base_uri": "https://localhost:8080/"
        },
        "outputId": "2098b903-c23a-447e-e4a4-87190379e0ec"
      },
      "execution_count": null,
      "outputs": [
        {
          "output_type": "stream",
          "name": "stdout",
          "text": [
            "Матриця_1:\n",
            "[[6 1]\n",
            " [4 4]]\n",
            "\n",
            "Матриця_2:\n",
            "[[ 8 10]\n",
            " [ 4  6]]\n",
            "\n",
            "Результат поелементного перемноження матриць:\n",
            "[[48 10]\n",
            " [16 24]]\n"
          ]
        }
      ]
    },
    {
      "cell_type": "markdown",
      "source": [
        "13. Створіть дві матриці розміром 2x2, заповніть їх випадковими цілими числами в діапазоні від 1 до 10 та знайдіть їх добуток.\n",
        "\n"
      ],
      "metadata": {
        "id": "P8oIfpGE7itT"
      }
    },
    {
      "cell_type": "code",
      "source": [
        "import numpy as np\n",
        "\n",
        "np.random.seed(0)\n",
        "\n",
        "matrix_1 = np.random.randint(1, 11, size=(2, 2))\n",
        "matrix_2 = np.random.randint(1, 11, size=(2, 2))\n",
        "result = np.dot(matrix_1, matrix_2)\n",
        "\n",
        "print(\"Матриця_1:\")\n",
        "print(matrix_1)\n",
        "print(\"\\nМатриця_2:\")\n",
        "print(matrix_2)\n",
        "print(\"\\nДобуток матриць:\")\n",
        "print(result)"
      ],
      "metadata": {
        "id": "p-tVXUhH80Iq",
        "colab": {
          "base_uri": "https://localhost:8080/"
        },
        "outputId": "5bb4f197-a70f-4563-f5b8-b62c77e7781c"
      },
      "execution_count": null,
      "outputs": [
        {
          "output_type": "stream",
          "name": "stdout",
          "text": [
            "Матриця_1:\n",
            "[[6 1]\n",
            " [4 4]]\n",
            "\n",
            "Матриця_2:\n",
            "[[ 8 10]\n",
            " [ 4  6]]\n",
            "\n",
            "Добуток матриць:\n",
            "[[52 66]\n",
            " [48 64]]\n"
          ]
        }
      ]
    },
    {
      "cell_type": "markdown",
      "source": [
        "14. Створіть матрицю розміром 5x5, заповніть її випадковими цілими числами в діапазоні від 1 до 100 та знайдіть суму елементів матриці.\n",
        "\n"
      ],
      "metadata": {
        "id": "H6FYOpAo7oiI"
      }
    },
    {
      "cell_type": "code",
      "source": [
        "import numpy as np\n",
        "\n",
        "np.random.seed(0)\n",
        "\n",
        "matrix = np.random.randint(1, 101, size=(5, 5))\n",
        "print(\"Матриця:\")\n",
        "print(matrix)\n",
        "result = np.sum(matrix)\n",
        "print(\"\\nСума елементів матриці:\")\n",
        "result"
      ],
      "metadata": {
        "id": "NgT5bHUC80kP",
        "colab": {
          "base_uri": "https://localhost:8080/"
        },
        "outputId": "e70ba2d6-64e4-4abe-bf98-8ef2785e0628"
      },
      "execution_count": null,
      "outputs": [
        {
          "output_type": "stream",
          "name": "stdout",
          "text": [
            "Матриця:\n",
            "[[45 48 65 68 68]\n",
            " [10 84 22 37 88]\n",
            " [71 89 89 13 59]\n",
            " [66 40 88 47 89]\n",
            " [82 38 26 78 73]]\n",
            "\n",
            "Сума елементів матриці:\n"
          ]
        },
        {
          "output_type": "execute_result",
          "data": {
            "text/plain": [
              "1483"
            ]
          },
          "metadata": {},
          "execution_count": 27
        }
      ]
    },
    {
      "cell_type": "markdown",
      "source": [
        "15. Створіть дві матриці розміром 4x4, заповніть їх випадковими цілими числами в діапазоні від 1 до 10 та знайдіть їхню різницю.\n",
        "\n"
      ],
      "metadata": {
        "id": "z_AKu2XS7lG2"
      }
    },
    {
      "cell_type": "code",
      "source": [
        "import numpy as np\n",
        "\n",
        "np.random.seed(0)\n",
        "\n",
        "matrix_1 = np.random.randint(1, 11, size=(4, 4))\n",
        "matrix_2 = np.random.randint(1, 11, size=(4, 4))\n",
        "result = matrix_1 - matrix_2\n",
        "\n",
        "print(\"Матриця_1:\")\n",
        "print(matrix_1)\n",
        "print(\"\\nМатриця_2:\")\n",
        "print(matrix_2)\n",
        "print(\"\\nРізниця матриць:\")\n",
        "print(result)"
      ],
      "metadata": {
        "id": "ouwkHMGT81Gi",
        "colab": {
          "base_uri": "https://localhost:8080/"
        },
        "outputId": "34005087-1319-4e6c-d9a4-d74aa5e8cc93"
      },
      "execution_count": null,
      "outputs": [
        {
          "output_type": "stream",
          "name": "stdout",
          "text": [
            "Матриця_1:\n",
            "[[ 6  1  4  4]\n",
            " [ 8 10  4  6]\n",
            " [ 3  5  8  7]\n",
            " [ 9  9  2  7]]\n",
            "\n",
            "Матриця_2:\n",
            "[[ 8  8  9  2]\n",
            " [ 6 10  9 10]\n",
            " [ 5  4  1  4]\n",
            " [ 6  1  3  4]]\n",
            "\n",
            "Різниця матриць:\n",
            "[[-2 -7 -5  2]\n",
            " [ 2  0 -5 -4]\n",
            " [-2  1  7  3]\n",
            " [ 3  8 -1  3]]\n"
          ]
        }
      ]
    },
    {
      "cell_type": "markdown",
      "source": [
        "16. Створіть матрицю розміром 3x3, заповніть її випадковими дійсними числами в діапазоні від 0 до 1 та знайдіть вектор-стовпчик, що містить суму елементів кожного рядка матриці.\n",
        "\n"
      ],
      "metadata": {
        "id": "OHj1gYqB7iv7"
      }
    },
    {
      "cell_type": "code",
      "source": [
        "import numpy as np\n",
        "\n",
        "np.random.seed(0)\n",
        "\n",
        "matrix = np.random.random((3, 3))\n",
        "result = np.sum(matrix, axis=1)\n",
        "\n",
        "print(\"Матриця:\")\n",
        "print(matrix)\n",
        "\n",
        "print(result)\n",
        "vector = np.reshape(result, (3, 1))\n",
        "print(vector)"
      ],
      "metadata": {
        "id": "RThV-nmr81iP",
        "colab": {
          "base_uri": "https://localhost:8080/"
        },
        "outputId": "c0b093dc-109e-427b-f6ab-1b75c060c0c2"
      },
      "execution_count": null,
      "outputs": [
        {
          "output_type": "stream",
          "name": "stdout",
          "text": [
            "Матриця:\n",
            "[[0.5488135  0.71518937 0.60276338]\n",
            " [0.54488318 0.4236548  0.64589411]\n",
            " [0.43758721 0.891773   0.96366276]]\n",
            "[1.86676625 1.6144321  2.29302297]\n",
            "[[1.86676625]\n",
            " [1.6144321 ]\n",
            " [2.29302297]]\n"
          ]
        }
      ]
    },
    {
      "cell_type": "markdown",
      "source": [
        "17. Створіть матрицю розміром 3x4 з довільними цілими числами і створіть матрицю з квадратами цих чисел.\n",
        "\n"
      ],
      "metadata": {
        "id": "HoUqFXvF7iyo"
      }
    },
    {
      "cell_type": "code",
      "source": [
        "import numpy as np\n",
        "\n",
        "matrix = np.random.randint(low=-10, high=10, size=(3, 4))\n",
        "result = np.square(matrix)\n",
        "\n",
        "print(\"Вихідна матриця:\")\n",
        "print(matrix)\n",
        "print(\"\\nМатриця з квадратами чисел:\")\n",
        "print(result)"
      ],
      "metadata": {
        "id": "IfXdoxKm81_k",
        "colab": {
          "base_uri": "https://localhost:8080/"
        },
        "outputId": "cf1aae69-51ae-4f2c-f63f-a601149da1ff"
      },
      "execution_count": null,
      "outputs": [
        {
          "output_type": "stream",
          "name": "stdout",
          "text": [
            "Вихідна матриця:\n",
            "[[ -5   5   5 -10]\n",
            " [  8  -7   7   9]\n",
            " [  9   9   4  -3]]\n",
            "\n",
            "Матриця з квадратами чисел:\n",
            "[[ 25  25  25 100]\n",
            " [ 64  49  49  81]\n",
            " [ 81  81  16   9]]\n"
          ]
        }
      ]
    },
    {
      "cell_type": "markdown",
      "source": [
        "18. Створіть вектор розміром 4, заповніть його випадковими цілими числами в діапазоні від 1 до 50 та знайдіть вектор з квадратними коренями цих чисел.\n",
        "\n"
      ],
      "metadata": {
        "id": "CgGIcZ947i1H"
      }
    },
    {
      "cell_type": "code",
      "source": [
        "import numpy as np\n",
        "\n",
        "np.random.seed(0)\n",
        "vector = np.random.randint(1, 51, size=4)\n",
        "result = np.sqrt(vector)\n",
        "\n",
        "print(\"Вихідний вектор:\")\n",
        "print(vector)\n",
        "print(\"\\nВектор з квадратними коренями чисел:\")\n",
        "print(result)"
      ],
      "metadata": {
        "id": "obDFwnkz82ey",
        "colab": {
          "base_uri": "https://localhost:8080/"
        },
        "outputId": "2cf4402e-049c-4bf7-c775-e7ee137fbc67"
      },
      "execution_count": null,
      "outputs": [
        {
          "output_type": "stream",
          "name": "stdout",
          "text": [
            "Вихідний вектор:\n",
            "[45 48  1  4]\n",
            "\n",
            "Вектор з квадратними коренями чисел:\n",
            "[6.70820393 6.92820323 1.         2.        ]\n"
          ]
        }
      ]
    }
  ]
}