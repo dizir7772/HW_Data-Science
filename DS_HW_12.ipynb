{
  "nbformat": 4,
  "nbformat_minor": 0,
  "metadata": {
    "colab": {
      "provenance": []
    },
    "kernelspec": {
      "name": "python3",
      "display_name": "Python 3"
    },
    "language_info": {
      "name": "python"
    }
  },
  "cells": [
    {
      "cell_type": "markdown",
      "metadata": {
        "id": "view-in-github"
      },
      "source": [
        "<a href=\"https://colab.research.google.com/github/RostislavB74/DS_HW12/blob/main/hw12_1_EN_UA.ipynb\" target=\"_parent\"><img src=\"https://colab.research.google.com/assets/colab-badge.svg\" alt=\"Open In Colab\"/></a>"
      ]
    },
    {
      "cell_type": "code",
      "source": [
        "!pip install googletrans\n",
        "!pip install deep-translator"
      ],
      "metadata": {
        "colab": {
          "base_uri": "https://localhost:8080/"
        },
        "id": "Y1PtRpa2uIa_",
        "outputId": "3e504759-8a82-4b97-b2ce-2793438a178d"
      },
      "execution_count": 1,
      "outputs": [
        {
          "output_type": "stream",
          "name": "stdout",
          "text": [
            "Collecting googletrans\n",
            "  Downloading googletrans-3.0.0.tar.gz (17 kB)\n",
            "  Preparing metadata (setup.py) ... \u001b[?25l\u001b[?25hdone\n",
            "Collecting httpx==0.13.3 (from googletrans)\n",
            "  Downloading httpx-0.13.3-py3-none-any.whl (55 kB)\n",
            "\u001b[2K     \u001b[90m━━━━━━━━━━━━━━━━━━━━━━━━━━━━━━━━━━━━━━━━\u001b[0m \u001b[32m55.1/55.1 kB\u001b[0m \u001b[31m881.3 kB/s\u001b[0m eta \u001b[36m0:00:00\u001b[0m\n",
            "\u001b[?25hRequirement already satisfied: certifi in /usr/local/lib/python3.10/dist-packages (from httpx==0.13.3->googletrans) (2024.2.2)\n",
            "Collecting hstspreload (from httpx==0.13.3->googletrans)\n",
            "  Downloading hstspreload-2024.4.1-py3-none-any.whl (1.1 MB)\n",
            "\u001b[2K     \u001b[90m━━━━━━━━━━━━━━━━━━━━━━━━━━━━━━━━━━━━━━━━\u001b[0m \u001b[32m1.1/1.1 MB\u001b[0m \u001b[31m6.9 MB/s\u001b[0m eta \u001b[36m0:00:00\u001b[0m\n",
            "\u001b[?25hRequirement already satisfied: sniffio in /usr/local/lib/python3.10/dist-packages (from httpx==0.13.3->googletrans) (1.3.1)\n",
            "Collecting chardet==3.* (from httpx==0.13.3->googletrans)\n",
            "  Downloading chardet-3.0.4-py2.py3-none-any.whl (133 kB)\n",
            "\u001b[2K     \u001b[90m━━━━━━━━━━━━━━━━━━━━━━━━━━━━━━━━━━━━━━━━\u001b[0m \u001b[32m133.4/133.4 kB\u001b[0m \u001b[31m8.2 MB/s\u001b[0m eta \u001b[36m0:00:00\u001b[0m\n",
            "\u001b[?25hCollecting idna==2.* (from httpx==0.13.3->googletrans)\n",
            "  Downloading idna-2.10-py2.py3-none-any.whl (58 kB)\n",
            "\u001b[2K     \u001b[90m━━━━━━━━━━━━━━━━━━━━━━━━━━━━━━━━━━━━━━━━\u001b[0m \u001b[32m58.8/58.8 kB\u001b[0m \u001b[31m3.0 MB/s\u001b[0m eta \u001b[36m0:00:00\u001b[0m\n",
            "\u001b[?25hCollecting rfc3986<2,>=1.3 (from httpx==0.13.3->googletrans)\n",
            "  Downloading rfc3986-1.5.0-py2.py3-none-any.whl (31 kB)\n",
            "Collecting httpcore==0.9.* (from httpx==0.13.3->googletrans)\n",
            "  Downloading httpcore-0.9.1-py3-none-any.whl (42 kB)\n",
            "\u001b[2K     \u001b[90m━━━━━━━━━━━━━━━━━━━━━━━━━━━━━━━━━━━━━━━━\u001b[0m \u001b[32m42.6/42.6 kB\u001b[0m \u001b[31m2.0 MB/s\u001b[0m eta \u001b[36m0:00:00\u001b[0m\n",
            "\u001b[?25hCollecting h11<0.10,>=0.8 (from httpcore==0.9.*->httpx==0.13.3->googletrans)\n",
            "  Downloading h11-0.9.0-py2.py3-none-any.whl (53 kB)\n",
            "\u001b[2K     \u001b[90m━━━━━━━━━━━━━━━━━━━━━━━━━━━━━━━━━━━━━━━━\u001b[0m \u001b[32m53.6/53.6 kB\u001b[0m \u001b[31m4.5 MB/s\u001b[0m eta \u001b[36m0:00:00\u001b[0m\n",
            "\u001b[?25hCollecting h2==3.* (from httpcore==0.9.*->httpx==0.13.3->googletrans)\n",
            "  Downloading h2-3.2.0-py2.py3-none-any.whl (65 kB)\n",
            "\u001b[2K     \u001b[90m━━━━━━━━━━━━━━━━━━━━━━━━━━━━━━━━━━━━━━━━\u001b[0m \u001b[32m65.0/65.0 kB\u001b[0m \u001b[31m3.3 MB/s\u001b[0m eta \u001b[36m0:00:00\u001b[0m\n",
            "\u001b[?25hCollecting hyperframe<6,>=5.2.0 (from h2==3.*->httpcore==0.9.*->httpx==0.13.3->googletrans)\n",
            "  Downloading hyperframe-5.2.0-py2.py3-none-any.whl (12 kB)\n",
            "Collecting hpack<4,>=3.0 (from h2==3.*->httpcore==0.9.*->httpx==0.13.3->googletrans)\n",
            "  Downloading hpack-3.0.0-py2.py3-none-any.whl (38 kB)\n",
            "Building wheels for collected packages: googletrans\n",
            "  Building wheel for googletrans (setup.py) ... \u001b[?25l\u001b[?25hdone\n",
            "  Created wheel for googletrans: filename=googletrans-3.0.0-py3-none-any.whl size=15718 sha256=c6e4c44f257483106ca060c6d001453fcc5f9ce70e233e16fb4f153602459c5b\n",
            "  Stored in directory: /root/.cache/pip/wheels/b3/81/ea/8b030407f8ebfc2f857814e086bb22ca2d4fea1a7be63652ab\n",
            "Successfully built googletrans\n",
            "Installing collected packages: rfc3986, hyperframe, hpack, h11, chardet, idna, hstspreload, h2, httpcore, httpx, googletrans\n",
            "  Attempting uninstall: chardet\n",
            "    Found existing installation: chardet 5.2.0\n",
            "    Uninstalling chardet-5.2.0:\n",
            "      Successfully uninstalled chardet-5.2.0\n",
            "  Attempting uninstall: idna\n",
            "    Found existing installation: idna 3.7\n",
            "    Uninstalling idna-3.7:\n",
            "      Successfully uninstalled idna-3.7\n",
            "Successfully installed chardet-3.0.4 googletrans-3.0.0 h11-0.9.0 h2-3.2.0 hpack-3.0.0 hstspreload-2024.4.1 httpcore-0.9.1 httpx-0.13.3 hyperframe-5.2.0 idna-2.10 rfc3986-1.5.0\n",
            "Collecting deep-translator\n",
            "  Downloading deep_translator-1.11.4-py3-none-any.whl (42 kB)\n",
            "\u001b[2K     \u001b[90m━━━━━━━━━━━━━━━━━━━━━━━━━━━━━━━━━━━━━━━━\u001b[0m \u001b[32m42.3/42.3 kB\u001b[0m \u001b[31m846.4 kB/s\u001b[0m eta \u001b[36m0:00:00\u001b[0m\n",
            "\u001b[?25hRequirement already satisfied: beautifulsoup4<5.0.0,>=4.9.1 in /usr/local/lib/python3.10/dist-packages (from deep-translator) (4.12.3)\n",
            "Requirement already satisfied: requests<3.0.0,>=2.23.0 in /usr/local/lib/python3.10/dist-packages (from deep-translator) (2.31.0)\n",
            "Requirement already satisfied: soupsieve>1.2 in /usr/local/lib/python3.10/dist-packages (from beautifulsoup4<5.0.0,>=4.9.1->deep-translator) (2.5)\n",
            "Requirement already satisfied: charset-normalizer<4,>=2 in /usr/local/lib/python3.10/dist-packages (from requests<3.0.0,>=2.23.0->deep-translator) (3.3.2)\n",
            "Requirement already satisfied: idna<4,>=2.5 in /usr/local/lib/python3.10/dist-packages (from requests<3.0.0,>=2.23.0->deep-translator) (2.10)\n",
            "Requirement already satisfied: urllib3<3,>=1.21.1 in /usr/local/lib/python3.10/dist-packages (from requests<3.0.0,>=2.23.0->deep-translator) (2.0.7)\n",
            "Requirement already satisfied: certifi>=2017.4.17 in /usr/local/lib/python3.10/dist-packages (from requests<3.0.0,>=2.23.0->deep-translator) (2024.2.2)\n",
            "Installing collected packages: deep-translator\n",
            "Successfully installed deep-translator-1.11.4\n"
          ]
        }
      ]
    },
    {
      "cell_type": "markdown",
      "source": [
        "## Текст"
      ],
      "metadata": {
        "id": "dpF-pvWw3ubQ"
      }
    },
    {
      "cell_type": "markdown",
      "source": [
        "The Orbiter Discovery, OV-103, is considered eligible for listing in the National Register of Historic Places (NRHP) in the context of the U.S. Space Shuttle Program (1969-2011) under Criterion A in the areas of Space Exploration and Transportation and under Criterion C in the area of Engineering. Because it has achieved significance within the past fifty years, Criteria Consideration G applies. Under Criterion A, Discovery is significant as the oldest of the three extant orbiter vehicles constructed for the Space Shuttle Program (SSP), the longest running American space program to date; she was the third of five orbiters built by NASA. Unlike the Mercury, Gemini, and Apollo programs, the SSP’s emphasis was on cost effectiveness and reusability, and eventually the construction of a space station. Including her maiden voyage (launched August 30, 1984), Discovery flew to space thirty-nine times, more than any of the other four orbiters; she was also the first orbiter to fly twenty missions. She had the honor of being chosen as the Return to Flight vehicle after both the Challenger and Columbia accidents. Discovery was the first shuttle to fly with the redesigned SRBs, a result of the Challenger accident, and the first shuttle to fly with the Phase II and Block I SSME. Discovery also carried the Hubble Space Telescope to orbit and performed two of the five servicing missions to the observatory. She flew the first and last dedicated Department of Defense (DoD) missions, as well as the first unclassified defense-related mission. In addition, Discovery was vital to the construction of the International Space Station (ISS); she flew thirteen of the thirty-seven total missions flown to the station by a U.S. Space Shuttle. She was the first orbiter to dock to the ISS, and the first to perform an exchange of a resident crew. Under Criterion C, Discovery is significant as a feat of engineering. According to Wayne Hale, a flight director from Johnson Space Center, the Space Shuttle orbiter represents a “huge technological leap from expendable rockets and capsules to a reusable, winged, hypersonic, cargo-carrying spacecraft.” Although her base structure followed a conventional aircraft design, she used advanced materials that both minimized her weight for cargo-carrying purposes and featured low thermal expansion ratios, which provided a stable base for her Thermal Protection System (TPS) materials. The Space Shuttle orbiter also featured the first reusable TPS; all previous spaceflight vehicles had a single-use, ablative heat shield. Other notable engineering achievements of the orbiter included the first reusable orbital propulsion system, and the first two-fault-tolerant Integrated Avionics System. As Hale stated, the Space Shuttle remains “the largest, fastest, winged hypersonic aircraft in history,” having regularly flown at twenty-five times the speed of sound.\n",
        "\n"
      ],
      "metadata": {
        "id": "r5gS5cok8p4W"
      }
    },
    {
      "cell_type": "markdown",
      "source": [
        "## Переклад тексту за допомогою google translate\n"
      ],
      "metadata": {
        "id": "2hHlGMS57J3v"
      }
    },
    {
      "cell_type": "markdown",
      "source": [
        "Orbiter Discovery, OV-103, вважається придатним для внесення до Національного реєстру історичних місць (NRHP) у контексті Програми космічних човників США (1969-2011) відповідно до критерію A у сферах дослідження космосу та транспортування та відповідно до Критерій C у сфері інженерії. Оскільки він досяг значущості протягом останніх п’ятдесяти років, застосовується Критерій G. Згідно з критерієм A, Discovery є значущим як найстаріший із трьох існуючих орбітальних апаратів, побудованих для Програми космічних човників (SSP), найтривалішої американської космічної програми на сьогоднішній день; вона була третім з п'яти орбітальних апаратів, побудованих НАСА. На відміну від програм Mercury, Gemini та Apollo, наголос SSP був на економічній ефективності та можливості повторного використання, а врешті-решт — на будівництві космічної станції. Враховуючи свій перший рейс (запущений 30 серпня 1984 року), «Діскавері» літав у космос тридцять дев’ять разів, більше ніж будь-який з інших чотирьох орбітальних кораблів; вона також була першим орбітальним апаратом, який здійснив двадцять місій. Вона мала честь бути обраною транспортним засобом для повернення в політ після аварій на «Челленджері» та «Колумбії». «Діскавері» був першим шатлом, який літав із переробленими SRB в результаті аварії «Челленджера», і першим шатлом, який літав із Phase II і Block I SSME. Discovery також переніс космічний телескоп Hubble на орбіту та виконав дві з п’яти місій обслуговування в обсерваторії. Вона брала участь у першій і останній спеціальній місії Міністерства оборони (DoD), а також у першій несекретній місії, пов’язаній з обороною. Крім того, «Діскавері» була життєво важливою для будівництва Міжнародної космічної станції (МКС); вона здійснила тринадцять із тридцяти семи місій, здійснених на станцію космічним човником США. Вона була першим орбітальним апаратом, який пристикувався до МКС, і першим, хто здійснив заміну постійного екіпажу. Відповідно до критерію C, Discovery є значущим як інженерний подвиг. За словами Вейна Хейла, керівника польотів з Космічного центру Джонсона, орбітальний корабель «Спейс Шаттл» являє собою «величезний технологічний стрибок від одноразових ракет і капсул до крилатого, гіперзвукового, вантажного космічного корабля багаторазового використання». Незважаючи на те, що її базова конструкція відповідала стандартній конструкції літака, вона використовувала передові матеріали, які мінімізували її вагу для цілей перевезення вантажу та мали низький коефіцієнт теплового розширення, що забезпечило стабільну основу для матеріалів її системи теплового захисту (TPS). Орбітальний корабель «Спейс Шаттл» також мав першу багаторазову TPS; всі попередні космічні апарати мали одноразовий абляційний теплозахисний екран. Серед інших помітних інженерних досягнень орбітального корабля — перша багаторазова орбітальна рухова система та перша двовідмовостійка інтегрована авіоніка. Як заявив Хейл, космічний шаттл залишається «найбільшим, найшвидшим, крилатим гіперзвуковим літальним апаратом в історії», який регулярно літав зі швидкістю, що у двадцять п’ять разів перевищує швидкість звуку."
      ],
      "metadata": {
        "id": "Kaa-OjZA7Sq5"
      }
    },
    {
      "cell_type": "markdown",
      "source": [
        "# Обробка"
      ],
      "metadata": {
        "id": "-LQe9I0T7VX7"
      }
    },
    {
      "cell_type": "code",
      "source": [
        "import spacy\n",
        "import nltk\n",
        "from googletrans import Translator\n",
        "from prettytable import PrettyTable\n",
        "from nltk.tokenize import word_tokenize, sent_tokenize\n",
        "from nltk.corpus import stopwords\n",
        "from heapq import nlargest\n",
        "from pprint import pprint\n",
        "from deep_translator import GoogleTranslator\n",
        "\n",
        "\n",
        "nltk.download('punkt')\n",
        "nltk.download('stopwords')\n",
        "stop_words = set(stopwords.words('english'))\n",
        "nlp = spacy.load(\"en_core_web_sm\")"
      ],
      "metadata": {
        "colab": {
          "base_uri": "https://localhost:8080/"
        },
        "id": "NFI4-Cwj8elZ",
        "outputId": "c3e081fe-55e0-48e0-fac5-9ddcf3cdb1c5"
      },
      "execution_count": 3,
      "outputs": [
        {
          "output_type": "stream",
          "name": "stderr",
          "text": [
            "[nltk_data] Downloading package punkt to /root/nltk_data...\n",
            "[nltk_data]   Package punkt is already up-to-date!\n",
            "[nltk_data] Downloading package stopwords to /root/nltk_data...\n",
            "[nltk_data]   Package stopwords is already up-to-date!\n"
          ]
        }
      ]
    },
    {
      "cell_type": "code",
      "source": [
        "text = \"\"\"\n",
        "The Orbiter Discovery, OV-103, is considered eligible for listing in the \\n\n",
        "National Register of Historic Places (NRHP) in the context of the U.S. Space \\n\n",
        "Shuttle Program (1969-2011) under Criterion A in the areas of Space Exploration\\n\n",
        "and Transportation and under Criterion C in the area of Engineering.\\n\n",
        "Because it has achieved significance within the past fifty years, \\n\n",
        "Criteria Consideration G applies. Under Criterion A, Discovery is significant\\n\n",
        "as the oldest of the three extant orbiter vehicles constructed for the Space \\n\n",
        "Shuttle Program (SSP), the longest running American space program to date; she\\n\n",
        "was the third of five orbiters built by NASA. Unlike the Mercury, Gemini, \\n\n",
        "and Apollo programs, the SSP’s emphasis was on cost effectiveness and \\n\n",
        "reusability, and eventually the construction of a space station. Including \\n\n",
        "her maiden voyage (launched August 30, 1984), Discovery flew to space \\n\n",
        "thirty-nine times, more than any of the other four orbiters; she was also the\\n\n",
        "first orbiter to fly twenty missions. She had the honor of being chosen as the \\n\n",
        "Return to Flight vehicle after both the Challenger and Columbia accidents. \\n\n",
        "Discovery was the first shuttle to fly with the redesigned SRBs, a result of \\n\n",
        "the Challenger accident, and the first shuttle to fly with the Phase II and \\n\n",
        "Block I SSME. Discovery also carried the Hubble Space Telescope to orbit and \\n\n",
        "performed two of the five servicing missions to the observatory. She flew the \\n\n",
        "first and last dedicated Department of Defense (DoD) missions, as well as the \\n\n",
        "first unclassified defense-related mission. In addition, Discovery was vital \\n\n",
        "to the construction of the International Space Station (ISS); she flew \\n\n",
        "thirteen of the thirty-seven total missions flown to the station by a U.S. \\n\n",
        "Space Shuttle. She was the first orbiter to dock to the ISS, and the first to \\n\n",
        "perform an exchange of a resident crew. Under Criterion C, Discovery is \\n\n",
        "significant as a feat of engineering. According to Wayne Hale, a flight \\n\n",
        "director from Johnson Space Center, the Space Shuttle orbiter represents a \\n\n",
        "“huge technological leap from expendable rockets and capsules to a reusable, \\n\n",
        "winged, hypersonic, cargo-carrying spacecraft.” Although her base structure \\n\n",
        "followed a conventional aircraft design, she used advanced materials that both \\n\n",
        "minimized her weight for cargo-carrying purposes and featured low thermal \\n\n",
        "expansion ratios, which provided a stable base for her Thermal Protection \\n\n",
        "System (TPS) materials. The Space Shuttle orbiter also featured the first \\n\n",
        "reusable TPS; all previous spaceflight vehicles had a single-use, ablative \\n\n",
        "heat shield. Other notable engineering achievements of the orbiter included \\n\n",
        "the first reusable orbital propulsion system, and the first two-fault-tolerant \\n\n",
        "Integrated Avionics System. As Hale stated, the Space Shuttle remains “the \\n\n",
        "largest, fastest, winged hypersonic aircraft in history,” having regularly \\n\n",
        "flown at twenty-five times the speed of sound.\n",
        "\"\"\""
      ],
      "metadata": {
        "id": "TJ1KS6Sw8jrS"
      },
      "execution_count": 4,
      "outputs": []
    },
    {
      "cell_type": "code",
      "source": [
        "cleaned_text = text.replace('\\n', ' ')"
      ],
      "metadata": {
        "id": "6hYNqoPf8UPJ"
      },
      "execution_count": 5,
      "outputs": []
    },
    {
      "cell_type": "code",
      "source": [
        "tokens = word_tokenize(cleaned_text)"
      ],
      "metadata": {
        "id": "obeusWob85TV"
      },
      "execution_count": 6,
      "outputs": []
    },
    {
      "cell_type": "code",
      "source": [
        "sentences = sent_tokenize(cleaned_text)"
      ],
      "metadata": {
        "id": "nzb3hboU86ub"
      },
      "execution_count": 7,
      "outputs": []
    },
    {
      "cell_type": "code",
      "source": [
        "stop_words = set(stopwords.words('english'))\n",
        "filtered_tokens = [word for word in tokens if word.lower() not in stop_words]"
      ],
      "metadata": {
        "id": "UDJ1R7U488DR"
      },
      "execution_count": 8,
      "outputs": []
    },
    {
      "cell_type": "code",
      "source": [
        "doc = nlp(cleaned_text)"
      ],
      "metadata": {
        "id": "hmhF_6Ue89WG"
      },
      "execution_count": 9,
      "outputs": []
    },
    {
      "cell_type": "code",
      "source": [
        "entities = [entity.text for entity in doc.ents]"
      ],
      "metadata": {
        "id": "_qRhzRvu8-zs"
      },
      "execution_count": 10,
      "outputs": []
    },
    {
      "cell_type": "code",
      "source": [
        "entities"
      ],
      "metadata": {
        "id": "kSd2TI4R8obg",
        "colab": {
          "base_uri": "https://localhost:8080/"
        },
        "outputId": "7191727b-c7e8-44a2-9cc2-4d7e06155481"
      },
      "execution_count": 11,
      "outputs": [
        {
          "output_type": "execute_result",
          "data": {
            "text/plain": [
              "['The Orbiter Discovery',\n",
              " 'National Register of Historic Places',\n",
              " 'NRHP',\n",
              " 'the U.S. Space',\n",
              " '1969-2011',\n",
              " 'Criterion A',\n",
              " 'Space Exploration  and',\n",
              " 'Transportation',\n",
              " 'Engineering',\n",
              " 'the past fifty years',\n",
              " 'Criteria',\n",
              " 'Criterion A',\n",
              " 'Discovery',\n",
              " 'three',\n",
              " 'American',\n",
              " 'third',\n",
              " 'five',\n",
              " 'NASA',\n",
              " 'Mercury',\n",
              " 'Gemini',\n",
              " 'Apollo',\n",
              " 'SSP',\n",
              " 'August 30, 1984',\n",
              " 'Discovery',\n",
              " 'thirty-nine',\n",
              " 'four',\n",
              " 'first',\n",
              " 'twenty',\n",
              " 'Challenger',\n",
              " 'Columbia',\n",
              " 'Discovery',\n",
              " 'first',\n",
              " 'Challenger',\n",
              " 'first',\n",
              " 'Discovery',\n",
              " 'the Hubble Space Telescope',\n",
              " 'two',\n",
              " 'five',\n",
              " 'first',\n",
              " 'Department of Defense',\n",
              " 'first',\n",
              " 'Discovery',\n",
              " 'the International Space Station',\n",
              " 'thirteen',\n",
              " 'thirty-seven',\n",
              " 'U.S.',\n",
              " 'Space Shuttle',\n",
              " 'first',\n",
              " 'ISS',\n",
              " 'first',\n",
              " 'Criterion C',\n",
              " 'Discovery',\n",
              " 'Wayne Hale',\n",
              " 'Johnson Space Center',\n",
              " 'Space Shuttle',\n",
              " 'first',\n",
              " 'first',\n",
              " 'first',\n",
              " 'two',\n",
              " 'Integrated Avionics System',\n",
              " 'Hale',\n",
              " 'twenty-five']"
            ]
          },
          "metadata": {},
          "execution_count": 11
        }
      ]
    },
    {
      "cell_type": "code",
      "source": [
        "select_length = len(sentences) // 2\n",
        "word_frequencies = {}\n",
        "for word in filtered_tokens:\n",
        "    if word not in word_frequencies:\n",
        "        word_frequencies[word] = 1\n",
        "    else:\n",
        "        word_frequencies[word] += 1\n",
        "\n",
        "maximum_frequency = max(word_frequencies.values())\n",
        "for word in word_frequencies.keys():\n",
        "    word_frequencies[word] = (word_frequencies[word]/maximum_frequency)\n",
        "\n",
        "sentence_scores = {}\n",
        "for sentence in sentences:\n",
        "    for word in word_tokenize(sentence.lower()):\n",
        "        if word in word_frequencies.keys():\n",
        "            if len(sentence.split(' ')) < 30:\n",
        "                if sentence not in sentence_scores.keys():\n",
        "                    sentence_scores[sentence] = word_frequencies[word]\n",
        "                else:\n",
        "                    sentence_scores[sentence] += word_frequencies[word]\n",
        "\n",
        "summary_sentences = nlargest(select_length, sentence_scores, key=sentence_scores.get)\n",
        "summary = ' '.join(summary_sentences)\n",
        "\n",
        "print(\"Summary:\")\n",
        "pprint(summary)"
      ],
      "metadata": {
        "colab": {
          "base_uri": "https://localhost:8080/"
        },
        "id": "J-ybBbZsTy7T",
        "outputId": "d628d62f-d0e2-4fe0-e45d-93f4504214e7"
      },
      "execution_count": 12,
      "outputs": [
        {
          "output_type": "stream",
          "name": "stdout",
          "text": [
            "Summary:\n",
            "('As Hale stated, the Space Shuttle remains “the   largest, fastest, winged '\n",
            " 'hypersonic aircraft in history,” having regularly   flown at twenty-five '\n",
            " 'times the speed of sound. Unlike the Mercury, Gemini,   and Apollo programs, '\n",
            " 'the SSP’s emphasis was on cost effectiveness and   reusability, and '\n",
            " 'eventually the construction of a space station. She flew the   first and '\n",
            " 'last dedicated Department of Defense (DoD) missions, as well as the   first '\n",
            " 'unclassified defense-related mission. The Space Shuttle orbiter also '\n",
            " 'featured the first   reusable TPS; all previous spaceflight vehicles had a '\n",
            " 'single-use, ablative   heat shield. Other notable engineering achievements '\n",
            " 'of the orbiter included   the first reusable orbital propulsion system, and '\n",
            " 'the first two-fault-tolerant   Integrated Avionics System. She was the first '\n",
            " 'orbiter to dock to the ISS, and the first to   perform an exchange of a '\n",
            " 'resident crew. Because it has achieved significance within the past fifty '\n",
            " 'years,   Criteria Consideration G applies. Under Criterion C, Discovery is   '\n",
            " 'significant as a feat of engineering.')\n"
          ]
        }
      ]
    },
    {
      "cell_type": "markdown",
      "source": [
        "# Summary EN+UA by google translate"
      ],
      "metadata": {
        "id": "RxSgvFH672M_"
      }
    },
    {
      "cell_type": "markdown",
      "source": [
        "Summary:\n",
        "As Hale stated, the Space Shuttle remains “the   largest, fastest, winged hypersonic aircraft in history,” having regularly   flown at twenty-five times the speed of sound. Unlike the Mercury, Gemini,   and Apollo programs, the SSP’s emphasis was on cost effectiveness and   reusability, and eventually the construction of a space station. She flew the   first and last dedicated Department of Defense (DoD) missions, as well as the   first unclassified defense-related mission. The Space Shuttle orbiter also featured the first   reusable TPS; all previous spaceflight vehicles had a single-use, ablative   heat shield. Other notable engineering achievements of the orbiter included   the first reusable orbital propulsion system, and the first two-fault-tolerant   Integrated Avionics System. She was the first orbiter to dock to the ISS, and the first to   perform an exchange of a resident crew. Because it has achieved significance within the past fifty years,   Criteria Consideration G applies. Under Criterion C, Discovery is   significant as a feat of engineering.\n",
        "\n",
        "Як заявив Хейл, космічний шаттл залишається «найбільшим, найшвидшим, крилатим гіперзвуковим літальним апаратом в історії», який регулярно літав зі швидкістю, що у двадцять п’ять разів перевищує швидкість звуку. На відміну від програм Mercury, Gemini та Apollo, наголос SSP був на економічній ефективності та можливості повторного використання, а врешті-решт — на будівництві космічної станції. Вона брала участь у першій і останній спеціальній місії Міністерства оборони (DoD), а також у першій несекретній місії, пов’язаній з обороною. Орбітальний корабель «Спейс Шаттл» також мав першу багаторазову TPS; всі попередні космічні апарати мали одноразовий абляційний теплозахисний екран. Серед інших помітних інженерних досягнень орбітального корабля — перша багаторазова орбітальна рухова система та перша двовідмовостійка інтегрована авіоніка. Вона була першим орбітальним апаратом, який пристикувався до МКС, і першим, хто здійснив заміну постійного екіпажу. Оскільки він досяг значущості протягом останніх п’ятдесяти років, застосовується Критерій G. Відповідно до критерію C, Discovery є значущим як інженерний подвиг."
      ],
      "metadata": {
        "id": "dHlCBiB19dHL"
      }
    },
    {
      "cell_type": "markdown",
      "source": [
        "# Додаємо перекладач"
      ],
      "metadata": {
        "id": "cX5BL9MX78XB"
      }
    },
    {
      "cell_type": "code",
      "source": [
        "print(\"Summary:\")\n",
        "pprint(summary)\n",
        "\n",
        "translation = GoogleTranslator(source='auto', target='uk').translate(summary)\n",
        "print(\"Український переклад:\")\n",
        "pprint(translation)\n"
      ],
      "metadata": {
        "colab": {
          "base_uri": "https://localhost:8080/"
        },
        "id": "RpEOYrNa4534",
        "outputId": "782986c7-5f83-488b-e572-7d2abca547b9"
      },
      "execution_count": 13,
      "outputs": [
        {
          "output_type": "stream",
          "name": "stdout",
          "text": [
            "Summary:\n",
            "('As Hale stated, the Space Shuttle remains “the   largest, fastest, winged '\n",
            " 'hypersonic aircraft in history,” having regularly   flown at twenty-five '\n",
            " 'times the speed of sound. Unlike the Mercury, Gemini,   and Apollo programs, '\n",
            " 'the SSP’s emphasis was on cost effectiveness and   reusability, and '\n",
            " 'eventually the construction of a space station. She flew the   first and '\n",
            " 'last dedicated Department of Defense (DoD) missions, as well as the   first '\n",
            " 'unclassified defense-related mission. The Space Shuttle orbiter also '\n",
            " 'featured the first   reusable TPS; all previous spaceflight vehicles had a '\n",
            " 'single-use, ablative   heat shield. Other notable engineering achievements '\n",
            " 'of the orbiter included   the first reusable orbital propulsion system, and '\n",
            " 'the first two-fault-tolerant   Integrated Avionics System. She was the first '\n",
            " 'orbiter to dock to the ISS, and the first to   perform an exchange of a '\n",
            " 'resident crew. Because it has achieved significance within the past fifty '\n",
            " 'years,   Criteria Consideration G applies. Under Criterion C, Discovery is   '\n",
            " 'significant as a feat of engineering.')\n",
            "Український переклад:\n",
            "('Як заявив Хейл, космічний шаттл залишається «найбільшим, найшвидшим, '\n",
            " 'крилатим гіперзвуковим літальним апаратом в історії», який регулярно літав '\n",
            " 'зі швидкістю, що у двадцять п’ять разів перевищує швидкість звуку. На '\n",
            " 'відміну від програм Mercury, Gemini та Apollo, наголос SSP був на '\n",
            " 'економічній ефективності та можливості повторного використання, а '\n",
            " 'врешті-решт — на будівництві космічної станції. Вона брала участь у першій і '\n",
            " 'останній спеціальній місії Міністерства оборони (DoD), а також у першій '\n",
            " 'несекретній місії, пов’язаній з обороною. Орбітальний корабель «Спейс Шаттл» '\n",
            " 'також мав першу багаторазову TPS; усі попередні космічні апарати мали '\n",
            " 'одноразовий абляційний теплозахисний екран. Серед інших помітних інженерних '\n",
            " 'досягнень орбітального корабля — перша багаторазова орбітальна рухова '\n",
            " 'система та перша двовідмовостійка інтегрована авіоніка. Вона була першим '\n",
            " 'орбітальним апаратом, який пристикувався до МКС, і першим, хто здійснив '\n",
            " 'заміну постійного екіпажу. Оскільки він досяг значущості протягом останніх '\n",
            " 'п’ятдесяти років, застосовується Критерій G. Відповідно до критерію C, '\n",
            " 'Discovery є значущим як інженерний подвиг.')\n"
          ]
        }
      ]
    }
  ]
}